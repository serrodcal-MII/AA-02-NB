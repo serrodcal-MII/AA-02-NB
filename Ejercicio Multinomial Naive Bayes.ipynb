{
 "cells": [
  {
   "cell_type": "markdown",
   "metadata": {},
   "source": [
    "# Modelos probabilísticos (Ejercicio)"
   ]
  },
  {
   "cell_type": "markdown",
   "metadata": {},
   "source": [
    "## Aplicación de Naive Bayes multinomial a la detección de SMS *spam*"
   ]
  },
  {
   "cell_type": "markdown",
   "metadata": {},
   "source": [
    "En este ejercicio se pide reproducir lo realizado en el caso práctico que se ha descrito en los vídeos (análisis de sentimiento en críticas de cine), pero ahora para detectar cuándo un mensaje corto (SMS) es *spam*."
   ]
  },
  {
   "cell_type": "markdown",
   "metadata": {},
   "source": [
    "### El conjunto de datos"
   ]
  },
  {
   "cell_type": "markdown",
   "metadata": {},
   "source": [
    "El conjunto de datos consiste una serie de mensajes SMS (5574 en total), que están clasificados como mensajes basura (*spam*) o mensajes normales (*ham*). Los datos se pueden obtener en el [UCI Machine Learning Repository](https://archive.ics.uci.edu/ml/datasets/sms+spam+collection). \n",
    "\n",
    "En concreto, descargar el fichero [smsspamcollection.zip](https://archive.ics.uci.edu/ml/machine-learning-databases/00228/smsspamcollection.zip), y descomprimirlo para obtener un fichero de texto SMSSpamCollection. En este fichero de texto hay una línea por cada sms, con el formato: *clase* *tabulador* *sms*. Por ejemplo, la primera línea es:\n",
    "\n",
    "`ham\tGo until jurong point, crazy.. Available only in bugis n great world la e buffet... Cine there got amore wat...`\n",
    "\n",
    "El fichero debe ser leído convenientemente para poder aplicar la vectorización. Se puede hacer la lectura usando las funciones python de lectura de ficheros, pero se recomienda usar la instrucción `read_table` de la biblioteca `pandas`:"
   ]
  },
  {
   "cell_type": "code",
   "execution_count": 1,
   "metadata": {},
   "outputs": [],
   "source": [
    "import pandas as pd"
   ]
  },
  {
   "cell_type": "markdown",
   "metadata": {},
   "source": [
    "*Pandas* es una biblioteca de python muy utilizada para manipular y analizar datos. Si el fichero se lee con la orden `read_table` (se pide averiguar la manera concreta de hacerlo), entonces se obtendrá una tabla (o *Data Frame*), en el que las etiquetas serán una columna y los correspondientes sms otra. Esto permite obtener de manera sencilla la lista de etiquetas o clases, y por otro lado la lista de mensajes, en el mismo orden.  "
   ]
  },
  {
   "cell_type": "markdown",
   "metadata": {},
   "source": [
    "### Aprendiendo a clasificar SMSs"
   ]
  },
  {
   "cell_type": "markdown",
   "metadata": {},
   "source": [
    "Se pide reproducir con estos datos lo realizado en el *notebook* en el que se aplica Naive Bayes Multinomial al análisis de sentimientos de críticas de cine, pero ahora para clasificar un SMS como *spam* o como normal. Esto incluye:\n",
    "\n",
    "* Separación de los textos en entrenamiento y prueba \n",
    "* Vectorización de los textos \n",
    "* Aprendizaje con `MultinomialNB`\n",
    "* Mostrar algunas clasificaciones sobre sms concretos.\n",
    "* Rendimiento sobre entrenamiento y prueba.\n",
    "* Ajuste manual del parámetro de suavizado\n",
    "* Vectorización con `min_df` y `stop_words` \n",
    "\n",
    "**Nota**: este conjunto de datos no es balanceado (la mayoría son *ham*). Por tanto, usar `score` no es muy ilustrativo del rendimiento, ya que un clasificador \"tonto\" que siempre predijera *ham* tendría un rendimiento alto. Por ello, en este caso también se hace necesario usar el método `confusion_matrix` del módulo `metrics`. Se pide también explicar la salida que proporciona dicha métrica.\n",
    "\n",
    "Se pide **comentar adecuadamente cada paso realizado**, relacionándolo con lo visto en la teoría. En particular, se pide mostrar parte de los atributos `class_count_`, `class_log_prior_`, `feature_count_` y `feature_log_prob_`, explicando claramente qué son cada uno de ellos. Explicar también cómo realiza las predicciones el modelo aprendido, tal y como se ha explicado en la teoría.  \n",
    "\n"
   ]
  },
  {
   "cell_type": "markdown",
   "metadata": {},
   "source": [
    "# Solución"
   ]
  },
  {
   "cell_type": "markdown",
   "metadata": {},
   "source": [
    "**Autor**: Sergio Rodríguez Calvo"
   ]
  },
  {
   "cell_type": "markdown",
   "metadata": {},
   "source": [
    "Antes de comenzar, vamos a importar todas las librerías y clases que vamos a necesitar."
   ]
  },
  {
   "cell_type": "code",
   "execution_count": 2,
   "metadata": {},
   "outputs": [],
   "source": [
    "import numpy as np\n",
    "import matplotlib.pyplot as plt\n",
    "from sklearn.model_selection import train_test_split\n",
    "from sklearn.feature_extraction.text import CountVectorizer\n",
    "from sklearn.naive_bayes import MultinomialNB\n",
    "from sklearn.metrics import confusion_matrix\n",
    "from sklearn.model_selection import GridSearchCV\n",
    "from sklearn.metrics import ConfusionMatrixDisplay"
   ]
  },
  {
   "cell_type": "markdown",
   "metadata": {},
   "source": [
    "Para cargar los datos, vamos a utilizar `read_table` de `pandas`, indicando la ruta al fichero, indicando que el fichero no tiene cabecera para asignar el nombre de las columnas. También, indicamos el separador entre columnas, en este caso, el tabulador, y los nombres que queremos para las columnas.\n",
    "\n",
    "Además, vamos a realizar una transformación de la columna `target`, que contiene la categría (indica que el SMS es normal o SPAM), para que sea categorica y se le asigna un entero a cada tipo (0 si el SMS es normal o 1 si es SPAM)."
   ]
  },
  {
   "cell_type": "code",
   "execution_count": 3,
   "metadata": {},
   "outputs": [
    {
     "name": "stdout",
     "output_type": "stream",
     "text": [
      "<class 'pandas.core.frame.DataFrame'>\n",
      "RangeIndex: 5572 entries, 0 to 5571\n",
      "Data columns (total 2 columns):\n",
      " #   Column  Non-Null Count  Dtype \n",
      "---  ------  --------------  ----- \n",
      " 0   target  5572 non-null   int8  \n",
      " 1   sms     5572 non-null   object\n",
      "dtypes: int8(1), object(1)\n",
      "memory usage: 49.1+ KB\n"
     ]
    }
   ],
   "source": [
    "df = pd.read_table('./smsspamcollection/SMSSpamCollection', header=None, sep='\\t', names = ['target','sms'])\n",
    "df.target = pd.Categorical(df.target)\n",
    "df['target'] = df.target.cat.codes\n",
    "df.info()"
   ]
  },
  {
   "cell_type": "markdown",
   "metadata": {},
   "source": [
    "En el _Dataframe_ tenemos 5.572 entradas en total. Pero, en el fichero hay 5.574 filas. Vamos a ver cuántas instancias hay de cada categoría."
   ]
  },
  {
   "cell_type": "code",
   "execution_count": 4,
   "metadata": {},
   "outputs": [
    {
     "name": "stdout",
     "output_type": "stream",
     "text": [
      "Instancias de tipo normal:  target    4825\n",
      "sms       4825\n",
      "dtype: int64\n",
      "Instancias de tipo SPAM:  target    747\n",
      "sms       747\n",
      "dtype: int64\n"
     ]
    }
   ],
   "source": [
    "print(\"Instancias de tipo normal: \", df[df['target'] == 0].count()) # ham\n",
    "print(\"Instancias de tipo SPAM: \", df[df['target'] == 1].count()) # spam "
   ]
  },
  {
   "cell_type": "markdown",
   "metadata": {},
   "source": [
    "Hay dos instancias menos en el _Dataframe_ del tipo SMS normal respecto al fichero. Como en este caso vemos que hay bastantes más instancias para la categoría normal que para la categoría SPAM, es despreciable que existan dos instancias menos. No obstante, esto debe ser tenido en cuenta durante todo el experimento."
   ]
  },
  {
   "cell_type": "markdown",
   "metadata": {},
   "source": [
    "Vamos a comprobar si hay o no valores nulos en alguna instnacia."
   ]
  },
  {
   "cell_type": "code",
   "execution_count": 5,
   "metadata": {},
   "outputs": [
    {
     "name": "stdout",
     "output_type": "stream",
     "text": [
      "Nulos encontrados: 0 \n"
     ]
    }
   ],
   "source": [
    "print(\"Nulos encontrados: %i \" %df.isnull().values.sum())"
   ]
  },
  {
   "cell_type": "markdown",
   "metadata": {},
   "source": [
    "Como no existen valores nulos, vamos a echar un vistazo a los datos que tenemos al principio y al final del _Dataframe_."
   ]
  },
  {
   "cell_type": "code",
   "execution_count": 6,
   "metadata": {},
   "outputs": [
    {
     "data": {
      "text/html": [
       "<div>\n",
       "<style scoped>\n",
       "    .dataframe tbody tr th:only-of-type {\n",
       "        vertical-align: middle;\n",
       "    }\n",
       "\n",
       "    .dataframe tbody tr th {\n",
       "        vertical-align: top;\n",
       "    }\n",
       "\n",
       "    .dataframe thead th {\n",
       "        text-align: right;\n",
       "    }\n",
       "</style>\n",
       "<table border=\"1\" class=\"dataframe\">\n",
       "  <thead>\n",
       "    <tr style=\"text-align: right;\">\n",
       "      <th></th>\n",
       "      <th>target</th>\n",
       "      <th>sms</th>\n",
       "    </tr>\n",
       "  </thead>\n",
       "  <tbody>\n",
       "    <tr>\n",
       "      <th>0</th>\n",
       "      <td>0</td>\n",
       "      <td>Go until jurong point, crazy.. Available only ...</td>\n",
       "    </tr>\n",
       "    <tr>\n",
       "      <th>1</th>\n",
       "      <td>0</td>\n",
       "      <td>Ok lar... Joking wif u oni...</td>\n",
       "    </tr>\n",
       "    <tr>\n",
       "      <th>2</th>\n",
       "      <td>1</td>\n",
       "      <td>Free entry in 2 a wkly comp to win FA Cup fina...</td>\n",
       "    </tr>\n",
       "    <tr>\n",
       "      <th>3</th>\n",
       "      <td>0</td>\n",
       "      <td>U dun say so early hor... U c already then say...</td>\n",
       "    </tr>\n",
       "    <tr>\n",
       "      <th>4</th>\n",
       "      <td>0</td>\n",
       "      <td>Nah I don't think he goes to usf, he lives aro...</td>\n",
       "    </tr>\n",
       "  </tbody>\n",
       "</table>\n",
       "</div>"
      ],
      "text/plain": [
       "   target                                                sms\n",
       "0       0  Go until jurong point, crazy.. Available only ...\n",
       "1       0                      Ok lar... Joking wif u oni...\n",
       "2       1  Free entry in 2 a wkly comp to win FA Cup fina...\n",
       "3       0  U dun say so early hor... U c already then say...\n",
       "4       0  Nah I don't think he goes to usf, he lives aro..."
      ]
     },
     "execution_count": 6,
     "metadata": {},
     "output_type": "execute_result"
    }
   ],
   "source": [
    "df.head()"
   ]
  },
  {
   "cell_type": "code",
   "execution_count": 7,
   "metadata": {},
   "outputs": [
    {
     "data": {
      "text/html": [
       "<div>\n",
       "<style scoped>\n",
       "    .dataframe tbody tr th:only-of-type {\n",
       "        vertical-align: middle;\n",
       "    }\n",
       "\n",
       "    .dataframe tbody tr th {\n",
       "        vertical-align: top;\n",
       "    }\n",
       "\n",
       "    .dataframe thead th {\n",
       "        text-align: right;\n",
       "    }\n",
       "</style>\n",
       "<table border=\"1\" class=\"dataframe\">\n",
       "  <thead>\n",
       "    <tr style=\"text-align: right;\">\n",
       "      <th></th>\n",
       "      <th>target</th>\n",
       "      <th>sms</th>\n",
       "    </tr>\n",
       "  </thead>\n",
       "  <tbody>\n",
       "    <tr>\n",
       "      <th>5567</th>\n",
       "      <td>1</td>\n",
       "      <td>This is the 2nd time we have tried 2 contact u...</td>\n",
       "    </tr>\n",
       "    <tr>\n",
       "      <th>5568</th>\n",
       "      <td>0</td>\n",
       "      <td>Will ü b going to esplanade fr home?</td>\n",
       "    </tr>\n",
       "    <tr>\n",
       "      <th>5569</th>\n",
       "      <td>0</td>\n",
       "      <td>Pity, * was in mood for that. So...any other s...</td>\n",
       "    </tr>\n",
       "    <tr>\n",
       "      <th>5570</th>\n",
       "      <td>0</td>\n",
       "      <td>The guy did some bitching but I acted like i'd...</td>\n",
       "    </tr>\n",
       "    <tr>\n",
       "      <th>5571</th>\n",
       "      <td>0</td>\n",
       "      <td>Rofl. Its true to its name</td>\n",
       "    </tr>\n",
       "  </tbody>\n",
       "</table>\n",
       "</div>"
      ],
      "text/plain": [
       "      target                                                sms\n",
       "5567       1  This is the 2nd time we have tried 2 contact u...\n",
       "5568       0               Will ü b going to esplanade fr home?\n",
       "5569       0  Pity, * was in mood for that. So...any other s...\n",
       "5570       0  The guy did some bitching but I acted like i'd...\n",
       "5571       0                         Rofl. Its true to its name"
      ]
     },
     "execution_count": 7,
     "metadata": {},
     "output_type": "execute_result"
    }
   ],
   "source": [
    "df.tail()"
   ]
  },
  {
   "cell_type": "markdown",
   "metadata": {},
   "source": [
    "Vemos ejemplos de ambas categorias, los cuales pueden ser utilizados posteriormente para comprobar manualmente la clasificación del modelo una vez lo tengamos entrenado."
   ]
  },
  {
   "cell_type": "markdown",
   "metadata": {},
   "source": [
    "Vamos a separar los datos en dos conjuntos, uno para entrenamiento y otro para pruebas. Para ello, vamos a usar `train_test_split` que vimos en el ejercicio de la semana 1, indicando que queremos que el 30% de las instancias se utilicen para pruebas."
   ]
  },
  {
   "cell_type": "code",
   "execution_count": 8,
   "metadata": {},
   "outputs": [
    {
     "name": "stdout",
     "output_type": "stream",
     "text": [
      "Ejemplos por cada clase en conjunto de entrenamiento: [3377  523]\n",
      "Ejemplos por cada clase en conjunto de prueba: [1448  224]\n"
     ]
    }
   ],
   "source": [
    "sms = df.sms.tolist()\n",
    "target = df.target.tolist()\n",
    "\n",
    "text_train, text_test, y_train, y_test = train_test_split(sms, target, stratify = target, test_size = 0.3)\n",
    "\n",
    "print(\"Ejemplos por cada clase en conjunto de entrenamiento: {}\".format(np.bincount(y_train)))\n",
    "print(\"Ejemplos por cada clase en conjunto de prueba: {}\".format(np.bincount(y_test)))"
   ]
  },
  {
   "cell_type": "markdown",
   "metadata": {},
   "source": [
    "Como ocurria con los datos orignales, sigue habiendo en cada conjunto más instancias de categoría normal que de categoría SPAM, pero se mantiene la misma proporción en ambos."
   ]
  },
  {
   "cell_type": "markdown",
   "metadata": {},
   "source": [
    "Necesitamos un componente que sepa convertir el texto del SMS en un vector que entienda la red bayesiana. Esta representación vectorial se va a realizar con `CountVectorizer` que sigue la estrategia de _bag of words_, es decir, el vector va a representar el número de veces que una palabra aparece en el texto del SMS. Y, dicho proceso, debe realizarse mediante un entrenamiento del vectorizador a partir de todos los textos de los SMS que aparecen, por ejemplo, en el conjunto de entrenamiento."
   ]
  },
  {
   "cell_type": "code",
   "execution_count": 9,
   "metadata": {},
   "outputs": [],
   "source": [
    "vect = CountVectorizer().fit(text_train)"
   ]
  },
  {
   "cell_type": "markdown",
   "metadata": {},
   "source": [
    "Una vez entrenado el vectorizador, vamos a ver cuántas palabras forman el vocabulario."
   ]
  },
  {
   "cell_type": "code",
   "execution_count": 10,
   "metadata": {},
   "outputs": [
    {
     "name": "stdout",
     "output_type": "stream",
     "text": [
      "Tamaño del vocabulario: 7210\n"
     ]
    }
   ],
   "source": [
    "print(\"Tamaño del vocabulario: {}\".format(len(vect.vocabulary_)))"
   ]
  },
  {
   "cell_type": "markdown",
   "metadata": {},
   "source": [
    "El vocabulario del vectorizador tiene un tamaño de 7.259 palabras. Por tanto, ya podemos utilizar este componente para transformar el texto de los SMS a vector de entrada de la red bayesiana (vetor numérico), tanto para entrenamiento como, posteriormente, para prueba."
   ]
  },
  {
   "cell_type": "code",
   "execution_count": 11,
   "metadata": {},
   "outputs": [
    {
     "name": "stdout",
     "output_type": "stream",
     "text": [
      "X_train:\n",
      "<3900x7210 sparse matrix of type '<class 'numpy.int64'>'\n",
      "\twith 51934 stored elements in Compressed Sparse Row format>\n"
     ]
    }
   ],
   "source": [
    "X_train = vect.transform(text_train)\n",
    "print(\"X_train:\\n{}\".format(repr(X_train)))"
   ]
  },
  {
   "cell_type": "markdown",
   "metadata": {},
   "source": [
    "`X_train` es una matriz dispersa. Lo normal es que un vector tenga muchos componentes a 0 puesto que esas palabras del vocabulario no aparecen en la instancia en cuestión, representarlo con _arrays_ ordinarios seria muy ineficiente. "
   ]
  },
  {
   "cell_type": "markdown",
   "metadata": {},
   "source": [
    "Vamos a explorar el vocabulario del vectorizador."
   ]
  },
  {
   "cell_type": "code",
   "execution_count": 12,
   "metadata": {},
   "outputs": [
    {
     "name": "stdout",
     "output_type": "stream",
     "text": [
      "Número de términos en el vocabulario: 7210\n",
      "Primeras 20 características (términos):\n",
      "['00' '000' '000pes' '008704050406' '0089' '01223585236' '0125698789' '02'\n",
      " '0207' '02073162414' '02085076972' '021' '03' '04' '05' '050703' '06'\n",
      " '07' '07046744435' '07090298926']\n",
      "Términos del 1010 al 1030:\n",
      "['asked' 'askin' 'asking' 'asks' 'aslamalaikkum' 'asleep' 'asp' 'aspects'\n",
      " 'ass' 'assessment' 'assistance' 'asssssholeeee' 'assume' 'asthere'\n",
      " 'asthma' 'astne' 'astoundingly' 'astrology' 'asus' 'asusual']\n",
      "Términos cada 200 posiciones:\n",
      "['00' '09066364311' '330' '82242' 'agency' 'as' 'begins' 'bristol'\n",
      " 'charge' 'computational' 'dancing' 'divorce' 'en' 'feelingood' 'ft'\n",
      " 'green' 'hmv1' 'infections' 'kalisidare' 'life' 'madurai' 'missing'\n",
      " 'necessary' 'omg' 'perf' 'prayers' 'rcvd' 'river' 'senrd' 'slip'\n",
      " 'started' 'swimming' 'throw' 'twice' 'virtual' 'wihtuot' 'zebra']\n"
     ]
    }
   ],
   "source": [
    "feature_names = vect.get_feature_names_out() # get_feature_names is deprecated\n",
    "print(\"Número de términos en el vocabulario: {}\".format(len(feature_names)))\n",
    "print(\"Primeras 20 características (términos):\\n{}\".format(feature_names[:20]))\n",
    "print(\"Términos del 1010 al 1030:\\n{}\".format(feature_names[1010:1030]))\n",
    "print(\"Términos cada 200 posiciones:\\n{}\".format(feature_names[::200]))"
   ]
  },
  {
   "cell_type": "markdown",
   "metadata": {},
   "source": [
    "Tenemos, como hemos comentado, 7.259 palabras en el vocabulario y mostramos algunos términos. Los términos o palabras del vocabulario están ordenadas por orden alfabético, por lo que vemos aquellos términos que forman las 20 primeras posiciones y las posiciones del 1.010 al 1.030 y, también, los términos cada 200 posiciones."
   ]
  },
  {
   "cell_type": "markdown",
   "metadata": {},
   "source": [
    "### Clasificacion textos usando Naive Bayes Multinomial"
   ]
  },
  {
   "cell_type": "markdown",
   "metadata": {},
   "source": [
    "Una vez tenemos un componente que sabe transformar el texto de los SMS a vectores, podemos emplear el clasificador Naive Bayes de tipo multinomial. Este clasificador es un clasificador probabilistico, basandose en la independencia condicional entre atributos dado una clase. El tipo multinomial, se diferencia del simple (o bernoulli) por tener en cuenta el número de ocurrencias de un término en el documento (recordemos la vectorización que estamos aplicando), por lo que la ausencia de términos no influye en la clasificación. Por contra, en el modelo simple (o bernoulli) importan los valores por lo que la presencia o ausencia influye, además, no se tiene en cuenta el nñumero de ocurrencia de los términos."
   ]
  },
  {
   "cell_type": "code",
   "execution_count": 13,
   "metadata": {},
   "outputs": [],
   "source": [
    "# Regresión logística con el parámetro por defecto: alpha = 1.0\n",
    "multinb=MultinomialNB().fit(X_train,y_train)"
   ]
  },
  {
   "cell_type": "markdown",
   "metadata": {},
   "source": [
    "Creamos y entrenamos, al mismo tiempo, la red bayesiana multinomial.\n",
    "\n",
    "La red bayesiana multinomial espera un parámetro alpha (o suavidad) que, en este caso, vale 1 ya que es el valor por defecto. Posteriormente, vamos a explicar mejor para qué sirve este parametro cuando pasemos a realizar ajustes manuales en él."
   ]
  },
  {
   "cell_type": "markdown",
   "metadata": {},
   "source": [
    "Tras entrenar al modelo, vamos a echar un vistazo a qué se ha aprendido:\n",
    "* `multinb.class_count_`: cuántas instancias hay de cada clase.\n",
    "* `multinb.class_log_prior_`: las log-probabilidades o probabilidades a priori, es decir, las proporciones de cada clase dentro del conjunto de entrenamiento. Se toma el logaritmo para evitar el problema de los número muy bajos.\n",
    "* `multinb.feature_count_`: muestra cuántas ocurrencias hay de cada uno de los términos para cada clase (cada lista pertenece a una clase).\n",
    "* `multinb.feature_log_prob_`: el logaritmo de las proporciones de las ocurrencias de cada término en la clase respecto a la ocurrencia de todos los términos en cada clase. Del mismo modo, cada lista pertenece a una clase."
   ]
  },
  {
   "cell_type": "code",
   "execution_count": 14,
   "metadata": {},
   "outputs": [
    {
     "name": "stdout",
     "output_type": "stream",
     "text": [
      "[3377.  523.]\n",
      "[-0.14398881 -2.00915037]\n",
      "[[ 0.  0.  1. ...  1.  0.  1.]\n",
      " [ 8. 22.  0. ...  0.  1.  0.]]\n",
      "[[-10.8423418  -10.8423418  -10.14919462 ... -10.14919462 -10.8423418\n",
      "  -10.14919462]\n",
      " [ -7.68631534  -6.7480457   -9.88353991 ...  -9.88353991  -9.19039273\n",
      "   -9.88353991]]\n"
     ]
    }
   ],
   "source": [
    "print(multinb.class_count_)\n",
    "print(multinb.class_log_prior_)\n",
    "print(multinb.feature_count_)\n",
    "print(multinb.feature_log_prob_)"
   ]
  },
  {
   "cell_type": "markdown",
   "metadata": {},
   "source": [
    "### Algunas clasificaciones"
   ]
  },
  {
   "cell_type": "markdown",
   "metadata": {},
   "source": [
    "Para ver cómo se comporta el modelo, vamos a evaluar dos ejemplos, uno de cada clase, a ver si acierta. Las pruebas las vamos a hacer utilizando el conjunto de prueba."
   ]
  },
  {
   "cell_type": "markdown",
   "metadata": {},
   "source": [
    "Los mensajes que vamos a probar con el segundo mensaje y el tercero."
   ]
  },
  {
   "cell_type": "code",
   "execution_count": 15,
   "metadata": {},
   "outputs": [
    {
     "name": "stdout",
     "output_type": "stream",
     "text": [
      "Segundo mensaje del conjunto de test: \n",
      "\n",
      "Aight well keep me informed\n",
      "\n",
      "Clasificación verdadera: 0.\n",
      "\n",
      "\n",
      "Tercer mensaje del conjunto de test: \n",
      "\n",
      "Jus finished avatar nigro\n",
      "\n",
      "Clasificación verdadera: 0\n"
     ]
    }
   ],
   "source": [
    "print(\"Segundo mensaje del conjunto de test: \\n\\n{}\\n\".format(text_test[1]))\n",
    "print(\"Clasificación verdadera: {}.\\n\\n\".format(y_test[1]))\n",
    "\n",
    "print(\"Tercer mensaje del conjunto de test: \\n\\n{}\\n\".format(text_test[2]))\n",
    "print(\"Clasificación verdadera: {}\".format(y_test[2]))"
   ]
  },
  {
   "cell_type": "code",
   "execution_count": 16,
   "metadata": {},
   "outputs": [
    {
     "name": "stdout",
     "output_type": "stream",
     "text": [
      "Predicción del clasificador para el segundo mensaje: 0\n",
      "\n",
      "Predicción del clasificador para el tercer mensaje: 0\n"
     ]
    }
   ],
   "source": [
    "print(\"Predicción del clasificador para el segundo mensaje: {}\\n\".format(multinb.predict(vect.transform([text_test[1]]))[0]))\n",
    "\n",
    "print(\"Predicción del clasificador para el tercer mensaje: {}\".format(multinb.predict(vect.transform([text_test[2]]))[0]))"
   ]
  },
  {
   "cell_type": "markdown",
   "metadata": {},
   "source": [
    "Vemos que el clasificador acierta para estos dos ejemplos, pero no tiene por qué ocurrir siempre así. Si buscamos más ejemplos veremos alguno que no clasifica bien. Esto lo vamos a analizar más adelante, ahora vamos a ver la predicción de probabilidad para ambos mensajes."
   ]
  },
  {
   "cell_type": "code",
   "execution_count": 17,
   "metadata": {},
   "outputs": [
    {
     "name": "stdout",
     "output_type": "stream",
     "text": [
      "Predicción de probabilidad para el segundo mensaje: [9.99798771e-01 2.01229091e-04]\n",
      "\n",
      "Predicción de probabilidad para el tercer mensaje: [0.9954392 0.0045608]\n"
     ]
    }
   ],
   "source": [
    "print(\"Predicción de probabilidad para el segundo mensaje: {}\\n\".format(multinb.predict_proba(vect.transform([text_test[1]]))[0]))\n",
    "\n",
    "print(\"Predicción de probabilidad para el tercer mensaje: {}\".format(multinb.predict_proba(vect.transform([text_test[2]]))[0]))"
   ]
  },
  {
   "cell_type": "markdown",
   "metadata": {},
   "source": [
    "El método `predict_proba` trabaja con probabilidades, al pedir estas, vemos como de probable cree el modelo que es un ejemplo respecto de cada clase."
   ]
  },
  {
   "cell_type": "markdown",
   "metadata": {},
   "source": [
    "Ahora vamos a transformar el conjunto de prueba para obtener sus vectores numéricos, utilizando el vectorizador que tenemos entrenado, y a ver como evalúa el rendimiento en cada caso."
   ]
  },
  {
   "cell_type": "code",
   "execution_count": 18,
   "metadata": {},
   "outputs": [
    {
     "name": "stdout",
     "output_type": "stream",
     "text": [
      "Rendimiento de multinb sobre el conjunto de entrenamiento: 0.99\n",
      "Rendimiento de multinb sobre el conjunto de test: 0.98\n"
     ]
    }
   ],
   "source": [
    "X_test = vect.transform(text_test)\n",
    "print(\"Rendimiento de multinb sobre el conjunto de entrenamiento: {:.2f}\".format(multinb.score(X_train,y_train)))\n",
    "print(\"Rendimiento de multinb sobre el conjunto de test: {:.2f}\".format(multinb.score(X_test,y_test)))"
   ]
  },
  {
   "cell_type": "markdown",
   "metadata": {},
   "source": [
    "Esta medida de rendimiento no es adecuada en cada caso ya que los conjuntos no están balanceados, esto es, tenemos bastantes más instancias para la clase 0 que para la clase 1. En este caso, una forma más adecuada de evaluar el modelo es mediante una matriz de confusión, donde podremos observar cuántas de cada clase las ha clasificado bien y cuantas mal."
   ]
  },
  {
   "cell_type": "code",
   "execution_count": 19,
   "metadata": {},
   "outputs": [
    {
     "data": {
      "text/plain": [
       "array([[1443,    5],\n",
       "       [  22,  202]])"
      ]
     },
     "execution_count": 19,
     "metadata": {},
     "output_type": "execute_result"
    }
   ],
   "source": [
    "y_pred = multinb.predict(X_test)\n",
    "cm = confusion_matrix(y_test, y_pred)\n",
    "cm"
   ]
  },
  {
   "cell_type": "markdown",
   "metadata": {},
   "source": [
    "Aquí se muestra la matriz en bruto, vamos a mostrar la matriz de forma más clara y visual."
   ]
  },
  {
   "cell_type": "code",
   "execution_count": 20,
   "metadata": {},
   "outputs": [
    {
     "data": {
      "image/png": "[encoded data removed]",
      "text/plain": [
       "<Figure size 432x288 with 2 Axes>"
      ]
     },
     "metadata": {
      "needs_background": "light"
     },
     "output_type": "display_data"
    }
   ],
   "source": [
    "ConfusionMatrixDisplay.from_predictions(y_test, y_pred)\n",
    "plt.show()"
   ]
  },
  {
   "cell_type": "markdown",
   "metadata": {},
   "source": [
    "Vamos a generar una medida del rendimiento a partir de estos datos."
   ]
  },
  {
   "cell_type": "code",
   "execution_count": 21,
   "metadata": {},
   "outputs": [
    {
     "name": "stdout",
     "output_type": "stream",
     "text": [
      "Score para los mensajes normales: 1.00\n",
      "Score para los mensajes SPAM: 0.90\n"
     ]
    }
   ],
   "source": [
    "print(\"Score para los mensajes normales: {:.2f}\".format(cm[0,0]/(cm[0,0]+cm[0,1])))\n",
    "print(\"Score para los mensajes SPAM: {:.2f}\".format(cm[1,1]/(cm[1,1]+cm[1,0])))"
   ]
  },
  {
   "cell_type": "markdown",
   "metadata": {},
   "source": [
    "Vemos el porcentaje de acierto en cada caso, por lo que, el modelo en este caso clasifica bien ambas clases (>90%)."
   ]
  },
  {
   "cell_type": "markdown",
   "metadata": {},
   "source": [
    "### Ajuste manual de los parámetros"
   ]
  },
  {
   "cell_type": "markdown",
   "metadata": {},
   "source": [
    "En este modelo, puede ocurrir un problema con las estimaciones, y es que las probabilidades pueden ser muy bajas o incluso nulas. Esto se puede deber a que no hay ejemplos en el conjunto de entrenamiento con un valor determinado para los atributos y clases. Como la probabilidad se calcula en base a un producto de probabilidades, interesa cambiar este proceso para evitar que ocurra esto (y evitar sobre ajustarse al conjunto de entrenamiento)."
   ]
  },
  {
   "cell_type": "markdown",
   "metadata": {},
   "source": [
    "El parámetro `alpha` es en realidad un parámetro que permite realizar el suavizado (o suavizado de Laplace). Ahora, las estimaciones se modifican sumando ese parámetro `alpha` simulando que las estimaciones no existentes en el conjunto sí existen en el conjunto de entrenamiento."
   ]
  },
  {
   "cell_type": "markdown",
   "metadata": {},
   "source": [
    "Este proceso de ajutes de los parámetros es muy importante, ya que nos permite afinar el modelo para mejorar su rendimiento, en este caso, la herramienta `GridSearchCV` hace una validación cruzada para unos ciertos valores del parámetro alpha (en este caso) para ver cuál es valor más adecuado."
   ]
  },
  {
   "cell_type": "code",
   "execution_count": 22,
   "metadata": {},
   "outputs": [
    {
     "name": "stdout",
     "output_type": "stream",
     "text": [
      "Mejor parámetro:  {'alpha': 0.01}\n",
      "Rendimiento de MultonomialNB en validación cruzada, con el mejor parámetro: 0.98\n"
     ]
    }
   ],
   "source": [
    "param_grid_nb = {'alpha': [0.0001, 0.001, 0.01, 0.1, 1, 10, 100, 200]}\n",
    "grid_nb = GridSearchCV(MultinomialNB(), param_grid_nb, cv=5)\n",
    "grid_nb.fit(X_train, y_train)\n",
    "print(\"Mejor parámetro: \", grid_nb.best_params_)\n",
    "print(\"Rendimiento de MultonomialNB en validación cruzada, con el mejor parámetro: {:.2f}\".format(grid_nb.best_score_))"
   ]
  },
  {
   "cell_type": "markdown",
   "metadata": {},
   "source": [
    "Vemos como el parámetro `alpha` = 0.01 es más adecuado en este caso que el parámetro elegido por defecto (`alpha` = 1), por lo que conviene realizar estos cambios para mejorar el rendimiento."
   ]
  },
  {
   "cell_type": "markdown",
   "metadata": {},
   "source": [
    "#### Experimento con alpha = 10"
   ]
  },
  {
   "cell_type": "markdown",
   "metadata": {},
   "source": [
    "Independientemente del resultado, vamos a probar con un par de valores de `alpha`, uno superior y otro inferior al utilizado previamente para ver qué cambia. En este caso, vamos a probar con `alpha` = 10. Como vamos a seguir los mismos pasos que anteriormente, vamos a omitir los comentarios salvo allí donde se observen diferencias que merezcan la pena comentar."
   ]
  },
  {
   "cell_type": "code",
   "execution_count": 23,
   "metadata": {},
   "outputs": [
    {
     "name": "stdout",
     "output_type": "stream",
     "text": [
      "Rendimiento de multinb sobre el conjunto de entrenamiento 0.96\n",
      "Rendimiento de multinb sobre el conjunto de test: 0.95\n"
     ]
    }
   ],
   "source": [
    "multinb_alpha=MultinomialNB(alpha=10).fit(X_train,y_train)\n",
    "print(\"Rendimiento de multinb sobre el conjunto de entrenamiento {:.2f}\".format(multinb_alpha.score(X_train,y_train)))\n",
    "print(\"Rendimiento de multinb sobre el conjunto de test: {:.2f}\".format(multinb_alpha.score(X_test,y_test)))"
   ]
  },
  {
   "cell_type": "code",
   "execution_count": 24,
   "metadata": {},
   "outputs": [
    {
     "name": "stdout",
     "output_type": "stream",
     "text": [
      "[3377.  523.]\n",
      "[-0.14398881 -2.00915037]\n",
      "[[ 0.  0.  1. ...  1.  0.  1.]\n",
      " [ 8. 22.  0. ...  0.  1.  0.]]\n",
      "[[-9.35902758 -9.35902758 -9.2637174  ... -9.2637174  -9.35902758\n",
      "  -9.2637174 ]\n",
      " [-8.45407588 -7.87871174 -9.04186255 ... -9.04186255 -8.94655237\n",
      "  -9.04186255]]\n"
     ]
    }
   ],
   "source": [
    "print(multinb_alpha.class_count_)\n",
    "print(multinb_alpha.class_log_prior_)\n",
    "print(multinb_alpha.feature_count_)\n",
    "print(multinb_alpha.feature_log_prob_)"
   ]
  },
  {
   "cell_type": "code",
   "execution_count": 25,
   "metadata": {},
   "outputs": [
    {
     "data": {
      "text/plain": [
       "array([[1447,    1],\n",
       "       [  77,  147]])"
      ]
     },
     "execution_count": 25,
     "metadata": {},
     "output_type": "execute_result"
    }
   ],
   "source": [
    "y_pred = multinb_alpha.predict(X_test)\n",
    "cm = confusion_matrix(y_test, y_pred)\n",
    "cm"
   ]
  },
  {
   "cell_type": "code",
   "execution_count": 26,
   "metadata": {},
   "outputs": [
    {
     "data": {
      "image/png": "[encoded data removed]",
      "text/plain": [
       "<Figure size 432x288 with 2 Axes>"
      ]
     },
     "metadata": {
      "needs_background": "light"
     },
     "output_type": "display_data"
    }
   ],
   "source": [
    "ConfusionMatrixDisplay.from_predictions(y_test, y_pred)\n",
    "plt.show()"
   ]
  },
  {
   "cell_type": "code",
   "execution_count": 27,
   "metadata": {},
   "outputs": [
    {
     "name": "stdout",
     "output_type": "stream",
     "text": [
      "Score para los mensajes normales: 1.00\n",
      "Score para los mensajes SPAM: 0.66\n"
     ]
    }
   ],
   "source": [
    "print(\"Score para los mensajes normales: {:.2f}\".format(cm[0,0]/(cm[0,0]+cm[0,1])))\n",
    "print(\"Score para los mensajes SPAM: {:.2f}\".format(cm[1,1]/(cm[1,1]+cm[1,0])))"
   ]
  },
  {
   "cell_type": "markdown",
   "metadata": {},
   "source": [
    "Vemos como para la clase 1 o SPAM, el clasificador ha reducido bastante su porcentaje de acierto para el conjunto de prueba. Sin embargo, utilizando la función `score` el porcentaje de acierto era superior al 90%. Esta diferencia entre `score` y la matriz de confusión es, como se ha explicado antes, debido a que el conjunto de datos no está balanceado."
   ]
  },
  {
   "cell_type": "markdown",
   "metadata": {},
   "source": [
    "#### Experimento con alpha = 0.1"
   ]
  },
  {
   "cell_type": "markdown",
   "metadata": {},
   "source": [
    "Vamos a probar ahora con un valor de `alpha` de 0.1 Como vamos a seguir los mismos pasos que anteriormente, vamos a omitir los comentarios salvo allí donde se observen diferencias que merezcan la pena comentar."
   ]
  },
  {
   "cell_type": "code",
   "execution_count": 28,
   "metadata": {},
   "outputs": [
    {
     "name": "stdout",
     "output_type": "stream",
     "text": [
      "Rendimiento de multinb sobre el conjunto de entrenamiento 1.00\n",
      "Rendimiento de multinb sobre el conjunto de test: 0.99\n"
     ]
    }
   ],
   "source": [
    "multinb_alpha=MultinomialNB(alpha=0.1).fit(X_train,y_train)\n",
    "print(\"Rendimiento de multinb sobre el conjunto de entrenamiento {:.2f}\".format(multinb_alpha.score(X_train,y_train)))\n",
    "print(\"Rendimiento de multinb sobre el conjunto de test: {:.2f}\".format(multinb_alpha.score(X_test,y_test)))"
   ]
  },
  {
   "cell_type": "code",
   "execution_count": 29,
   "metadata": {},
   "outputs": [
    {
     "name": "stdout",
     "output_type": "stream",
     "text": [
      "[3377.  523.]\n",
      "[-0.14398881 -2.00915037]\n",
      "[[ 0.  0.  1. ...  1.  0.  1.]\n",
      " [ 8. 22.  0. ...  0.  1.  0.]]\n",
      "[[-13.00923947 -13.00923947 -10.6113442  ... -10.6113442  -13.00923947\n",
      "  -10.6113442 ]\n",
      " [ -7.38972408  -6.38601053 -11.78417323 ... -11.78417323  -9.38627796\n",
      "  -11.78417323]]\n"
     ]
    }
   ],
   "source": [
    "print(multinb_alpha.class_count_)\n",
    "print(multinb_alpha.class_log_prior_)\n",
    "print(multinb_alpha.feature_count_)\n",
    "print(multinb_alpha.feature_log_prob_)"
   ]
  },
  {
   "cell_type": "code",
   "execution_count": 30,
   "metadata": {},
   "outputs": [
    {
     "data": {
      "text/plain": [
       "array([[1441,    7],\n",
       "       [  16,  208]])"
      ]
     },
     "execution_count": 30,
     "metadata": {},
     "output_type": "execute_result"
    }
   ],
   "source": [
    "y_pred = multinb_alpha.predict(X_test)\n",
    "cm = confusion_matrix(y_test, y_pred)\n",
    "cm"
   ]
  },
  {
   "cell_type": "code",
   "execution_count": 31,
   "metadata": {},
   "outputs": [
    {
     "data": {
      "image/png": "[encoded data removed]",
      "text/plain": [
       "<Figure size 432x288 with 2 Axes>"
      ]
     },
     "metadata": {
      "needs_background": "light"
     },
     "output_type": "display_data"
    }
   ],
   "source": [
    "ConfusionMatrixDisplay.from_predictions(y_test, y_pred)\n",
    "plt.show()"
   ]
  },
  {
   "cell_type": "code",
   "execution_count": 32,
   "metadata": {},
   "outputs": [
    {
     "name": "stdout",
     "output_type": "stream",
     "text": [
      "Score para los mensajes normales: 1.00\n",
      "Score para los mensajes SPAM: 0.93\n"
     ]
    }
   ],
   "source": [
    "print(\"Score para los mensajes normales: {:.2f}\".format(cm[0,0]/(cm[0,0]+cm[0,1])))\n",
    "print(\"Score para los mensajes SPAM: {:.2f}\".format(cm[1,1]/(cm[1,1]+cm[1,0])))"
   ]
  },
  {
   "cell_type": "markdown",
   "metadata": {},
   "source": [
    "En este caso, el parámetro `alpha` = 0.1 es más apropiado, ya que es más cercano a 0.01, que hemos visto en la validación cruzada."
   ]
  },
  {
   "cell_type": "markdown",
   "metadata": {},
   "source": [
    "### Mejorando la vectorización: *stop words*, `min_df`"
   ]
  },
  {
   "cell_type": "markdown",
   "metadata": {},
   "source": [
    "La vectorización no necesita recopilar todos los términos que aparecen en los documentos, para ello se eliminan las _stop words_ que son palabras frecuentes y que no aportan valor (preposiciones, entre otras) y, también, `min_df` que permite elminar aquellos términos que aparecen en muy pocos documentos. Vamos a emplear ambos y a reducir el vocabulario del vectorizador para mejorar el rendimiento y mejorar la precisión del modelo."
   ]
  },
  {
   "cell_type": "code",
   "execution_count": 33,
   "metadata": {},
   "outputs": [],
   "source": [
    "vect2 = CountVectorizer(min_df=3, stop_words='english').fit(text_train)\n",
    "X2_train = vect2.transform(text_train)"
   ]
  },
  {
   "cell_type": "code",
   "execution_count": 34,
   "metadata": {},
   "outputs": [
    {
     "name": "stdout",
     "output_type": "stream",
     "text": [
      "Número de términos en el vocabulario original: 7210\n",
      "Número de términos en el vocabulario con stop words y min_df: 1976\n"
     ]
    }
   ],
   "source": [
    "print(\"Número de términos en el vocabulario original: {}\".format(len(vect.get_feature_names_out())))\n",
    "feature_names2 = vect2.get_feature_names_out()\n",
    "print(\"Número de términos en el vocabulario con stop words y min_df: {}\".format(len(feature_names2)))"
   ]
  },
  {
   "cell_type": "markdown",
   "metadata": {},
   "source": [
    "Hemos reducido aproximádamente en 5.000 términos el vocabulario del vectorizador, para ver qué obtenemos en este nuevo experimento."
   ]
  },
  {
   "cell_type": "code",
   "execution_count": 35,
   "metadata": {},
   "outputs": [],
   "source": [
    "multinb2=MultinomialNB().fit(X2_train,y_train)"
   ]
  },
  {
   "cell_type": "code",
   "execution_count": 36,
   "metadata": {},
   "outputs": [
    {
     "name": "stdout",
     "output_type": "stream",
     "text": [
      "[3377.  523.]\n",
      "[-0.14398881 -2.00915037]\n",
      "[[ 0.  0.  0. ...  4. 33.  0.]\n",
      " [ 8. 22.  7. ...  0.  0.  3.]]\n",
      "[[-9.94817407 -9.94817407 -9.94817407 ... -8.33873616 -6.42181355\n",
      "  -9.94817407]\n",
      " [-6.87844089 -5.94017125 -6.99622393 ... -9.07566547 -9.07566547\n",
      "  -7.68937111]]\n"
     ]
    }
   ],
   "source": [
    "print(multinb2.class_count_)\n",
    "print(multinb2.class_log_prior_)\n",
    "print(multinb2.feature_count_)\n",
    "print(multinb2.feature_log_prob_)"
   ]
  },
  {
   "cell_type": "code",
   "execution_count": 37,
   "metadata": {},
   "outputs": [
    {
     "name": "stdout",
     "output_type": "stream",
     "text": [
      "Rendimiento de multinb2 sobre el conjunto de entrenamiento 0.99\n",
      "Rendimiento de multinb2 sobre el conjunto de test: 0.98\n"
     ]
    }
   ],
   "source": [
    "X2_test = vect2.transform(text_test)\n",
    "\n",
    "print(\"Rendimiento de multinb2 sobre el conjunto de entrenamiento {:.2f}\".format(multinb2.score(X2_train,y_train)))\n",
    "print(\"Rendimiento de multinb2 sobre el conjunto de test: {:.2f}\".format(multinb2.score(X2_test,y_test)))"
   ]
  },
  {
   "cell_type": "markdown",
   "metadata": {},
   "source": [
    "Como hemos visto, esta no es la forma más adecuada de medir el rendimiento, por lo que vamos a hacer lo mismo que en el resto de experimentos, usar la matriz de confusión."
   ]
  },
  {
   "cell_type": "code",
   "execution_count": 38,
   "metadata": {},
   "outputs": [
    {
     "data": {
      "text/plain": [
       "array([[1435,   13],\n",
       "       [  19,  205]])"
      ]
     },
     "execution_count": 38,
     "metadata": {},
     "output_type": "execute_result"
    }
   ],
   "source": [
    "y_pred = multinb2.predict(X2_test)\n",
    "cm = confusion_matrix(y_test, y_pred)\n",
    "cm"
   ]
  },
  {
   "cell_type": "code",
   "execution_count": 39,
   "metadata": {},
   "outputs": [
    {
     "data": {
      "image/png": "[encoded data removed]",
      "text/plain": [
       "<Figure size 432x288 with 2 Axes>"
      ]
     },
     "metadata": {
      "needs_background": "light"
     },
     "output_type": "display_data"
    }
   ],
   "source": [
    "ConfusionMatrixDisplay.from_predictions(y_test, y_pred)\n",
    "plt.show()"
   ]
  },
  {
   "cell_type": "code",
   "execution_count": 40,
   "metadata": {},
   "outputs": [
    {
     "name": "stdout",
     "output_type": "stream",
     "text": [
      "Score para los mensajes normales: 0.99\n",
      "Score para los mensajes SPAM: 0.92\n"
     ]
    }
   ],
   "source": [
    "print(\"Score para los mensajes normales: {:.2f}\".format(cm[0,0]/(cm[0,0]+cm[0,1])))\n",
    "print(\"Score para los mensajes SPAM: {:.2f}\".format(cm[1,1]/(cm[1,1]+cm[1,0])))"
   ]
  },
  {
   "cell_type": "markdown",
   "metadata": {},
   "source": [
    "En este caso, vemos como el rendimiento permanece igual que en experimentos anteriores (con `alpha` mejor ajustado), ya que en este caso, reducir el vocabulario permite mejorar el rendimiento (se trabaja con menos información) pero no el rendimiento del modelo."
   ]
  },
  {
   "cell_type": "markdown",
   "metadata": {},
   "source": [
    "## Conclusion"
   ]
  },
  {
   "cell_type": "markdown",
   "metadata": {},
   "source": [
    "El modelo busca similitudes a partir de lo aprendido. En este caso, se trata de un modelo probabilistico, por lo que vamos a tener una medida del grado de creencia respecto a una clasificación.\n",
    "\n",
    "En este experimento, el modelo da un grado de creencia en base a dos clases de SMS: normal (clasificando con valor numérico 0) o SPAM (clasificado con valor numérico 1).\n",
    "\n",
    "Para ello, vectorizamos teniendo en cuenta cuántas veces aparece un términmo (o palabra) en el mensaje, por lo que el modelo va a encontrar la relación entre ciertos términos y el número de ocurrencias de estos, para realizar la clasificación en base a una probabilidad o grado de creencia."
   ]
  }
 ],
 "metadata": {
  "kernelspec": {
   "display_name": "Python 3",
   "language": "python",
   "name": "python3"
  },
  "language_info": {
   "codemirror_mode": {
    "name": "ipython",
    "version": 3
   },
   "file_extension": ".py",
   "mimetype": "text/x-python",
   "name": "python",
   "nbconvert_exporter": "python",
   "pygments_lexer": "ipython3",
   "version": "3.9.9"
  }
 },
 "nbformat": 4,
 "nbformat_minor": 2
}
